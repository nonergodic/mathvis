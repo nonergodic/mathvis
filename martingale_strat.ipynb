{
 "cells": [
  {
   "cell_type": "code",
   "execution_count": 1,
   "metadata": {
    "scrolled": false
   },
   "outputs": [],
   "source": [
    "import numpy\n",
    "import matplotlib.pyplot as plt\n",
    "import ipywidgets as widgets\n",
    "from ipywidgets import interact"
   ]
  },
  {
   "cell_type": "code",
   "execution_count": 2,
   "metadata": {
    "scrolled": false
   },
   "outputs": [],
   "source": [
    "#change default size of plots and font\n",
    "plt.rcParams.update({'font.size': 22, 'figure.figsize': (14,8)})\n",
    "\n",
    "def show(init, p, t, n):\n",
    "    coinflip = lambda: numpy.random.binomial(1,p)*2-1\n",
    "\n",
    "    def jagged(k):\n",
    "        return coinflip()\n",
    "\n",
    "    def smooth(k):\n",
    "        b = 1\n",
    "        while numpy.power(2,b)-1<=k:\n",
    "            if coinflip()>0:\n",
    "                return 1\n",
    "            b += 1\n",
    "        return -(numpy.power(2,b-1)-1)\n",
    "\n",
    "    def walk(strat, k):\n",
    "        walk = [k]\n",
    "        for i in range(t):\n",
    "            k += strat(k)\n",
    "            walk.append(k)\n",
    "            if k == 0:\n",
    "                break\n",
    "        return walk\n",
    "    \n",
    "    for i in range(n):\n",
    "        w = walk(jagged, init)\n",
    "        x = range(0, len(w))\n",
    "        plt.plot(x, w)\n",
    "    plt.title('jagged')\n",
    "    plt.show()\n",
    "    \n",
    "    for i in range(n):\n",
    "        w = walk(smooth, init)\n",
    "        x = range(len(w))\n",
    "        plt.plot(x, w)\n",
    "    plt.title('smoothed')\n",
    "    plt.show()"
   ]
  },
  {
   "cell_type": "code",
   "execution_count": 3,
   "metadata": {},
   "outputs": [
    {
     "data": {
      "application/vnd.jupyter.widget-view+json": {
       "model_id": "1de14bde21404710a0600e8254d7fad8",
       "version_major": 2,
       "version_minor": 0
      },
      "text/plain": [
       "interactive(children=(IntText(value=100, description='init'), FloatSlider(value=0.5, continuous_update=False, …"
      ]
     },
     "metadata": {},
     "output_type": "display_data"
    }
   ],
   "source": [
    "interact(show,\\\n",
    "         init = widgets.IntText(value=100,continuous_update=False),\\\n",
    "         p = widgets.FloatSlider(min=0.25,max=0.75,step=0.01,value=0.5,continuous_update=False),\\\n",
    "         t = widgets.IntText(value=365,continuous_update=False),\\\n",
    "         n = widgets.IntText(value=10,continuous_update=False)\n",
    "        );"
   ]
  }
 ],
 "metadata": {
  "kernelspec": {
   "display_name": "Python 3",
   "language": "python",
   "name": "python3"
  },
  "language_info": {
   "codemirror_mode": {
    "name": "ipython",
    "version": 3
   },
   "file_extension": ".py",
   "mimetype": "text/x-python",
   "name": "python",
   "nbconvert_exporter": "python",
   "pygments_lexer": "ipython3",
   "version": "3.6.8"
  }
 },
 "nbformat": 4,
 "nbformat_minor": 2
}
