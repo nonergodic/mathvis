{
 "cells": [
  {
   "cell_type": "code",
   "execution_count": 1,
   "metadata": {},
   "outputs": [],
   "source": [
    "# Bayesian Network example from Russell/Norvig chapter 14 (apparently taken from Judea Pearl)\n",
    "# https://media.cheggcdn.com/media%2F400%2F4005f49b-e8f7-4c69-93f2-9af991a1bba8%2FphpsVaHxx.png\n",
    "binvar = lambda v,p: p if v else 1-p\n",
    "\n",
    "burglary = lambda v: binvar(v,0.001)\n",
    "earthquake = lambda v: binvar(v,0.002)\n",
    "\n",
    "def alarm(v,b,e):\n",
    "    if b and e:\n",
    "        p = 0.95\n",
    "    elif b and not e:\n",
    "        p = 0.94\n",
    "    elif not b and e:\n",
    "        p = 0.29\n",
    "    else:\n",
    "        p = 0.001\n",
    "    return binvar(v,p)\n",
    "\n",
    "def john(v,a):\n",
    "    if a:\n",
    "        p = 0.9\n",
    "    else:\n",
    "        p = 0.05\n",
    "    return binvar(v,p)\n",
    "\n",
    "def mary(v,a):\n",
    "    if a:\n",
    "        p = 0.7\n",
    "    else:\n",
    "        p = 0.01\n",
    "    return binvar(v,p)\n",
    "\n",
    "joint = lambda b,e,a,j,m: burglary(b)*earthquake(e)*alarm(a,b,e)*john(j,a)*mary(m,a)"
   ]
  },
  {
   "cell_type": "code",
   "execution_count": 2,
   "metadata": {},
   "outputs": [],
   "source": [
    "import pandas as pd\n",
    "import numpy as np\n",
    "\n",
    "flag = lambda value,index: True if (value & (2**index)) > 0 else False\n",
    "\n",
    "numberOfRows = 2**5\n",
    "df = pd.DataFrame(index=np.arange(numberOfRows), columns=('burglary', 'earthquake', 'alarm', 'john', 'mary', 'probability') )\n",
    "for i in np.arange(numberOfRows):\n",
    "    b = flag(i,4)\n",
    "    e = flag(i,3)\n",
    "    a = flag(i,2)\n",
    "    j = flag(i,1)\n",
    "    m = flag(i,0)\n",
    "    df.loc[i] = [b, e, a, j, m, joint(b,e,a,j,m)]"
   ]
  },
  {
   "cell_type": "code",
   "execution_count": 3,
   "metadata": {},
   "outputs": [
    {
     "data": {
      "text/html": [
       "<div>\n",
       "<style scoped>\n",
       "    .dataframe tbody tr th:only-of-type {\n",
       "        vertical-align: middle;\n",
       "    }\n",
       "\n",
       "    .dataframe tbody tr th {\n",
       "        vertical-align: top;\n",
       "    }\n",
       "\n",
       "    .dataframe thead th {\n",
       "        text-align: right;\n",
       "    }\n",
       "</style>\n",
       "<table border=\"1\" class=\"dataframe\">\n",
       "  <thead>\n",
       "    <tr style=\"text-align: right;\">\n",
       "      <th></th>\n",
       "      <th>burglary</th>\n",
       "      <th>earthquake</th>\n",
       "      <th>alarm</th>\n",
       "      <th>john</th>\n",
       "      <th>mary</th>\n",
       "      <th>probability</th>\n",
       "    </tr>\n",
       "  </thead>\n",
       "  <tbody>\n",
       "    <tr>\n",
       "      <th>0</th>\n",
       "      <td>False</td>\n",
       "      <td>False</td>\n",
       "      <td>False</td>\n",
       "      <td>False</td>\n",
       "      <td>False</td>\n",
       "      <td>0.936743</td>\n",
       "    </tr>\n",
       "    <tr>\n",
       "      <th>1</th>\n",
       "      <td>False</td>\n",
       "      <td>False</td>\n",
       "      <td>False</td>\n",
       "      <td>False</td>\n",
       "      <td>True</td>\n",
       "      <td>0.00946205</td>\n",
       "    </tr>\n",
       "    <tr>\n",
       "      <th>2</th>\n",
       "      <td>False</td>\n",
       "      <td>False</td>\n",
       "      <td>False</td>\n",
       "      <td>True</td>\n",
       "      <td>False</td>\n",
       "      <td>0.0493022</td>\n",
       "    </tr>\n",
       "    <tr>\n",
       "      <th>3</th>\n",
       "      <td>False</td>\n",
       "      <td>False</td>\n",
       "      <td>False</td>\n",
       "      <td>True</td>\n",
       "      <td>True</td>\n",
       "      <td>0.000498002</td>\n",
       "    </tr>\n",
       "    <tr>\n",
       "      <th>4</th>\n",
       "      <td>False</td>\n",
       "      <td>False</td>\n",
       "      <td>True</td>\n",
       "      <td>False</td>\n",
       "      <td>False</td>\n",
       "      <td>2.99101e-05</td>\n",
       "    </tr>\n",
       "  </tbody>\n",
       "</table>\n",
       "</div>"
      ],
      "text/plain": [
       "  burglary earthquake  alarm   john   mary  probability\n",
       "0    False      False  False  False  False     0.936743\n",
       "1    False      False  False  False   True   0.00946205\n",
       "2    False      False  False   True  False    0.0493022\n",
       "3    False      False  False   True   True  0.000498002\n",
       "4    False      False   True  False  False  2.99101e-05"
      ]
     },
     "execution_count": 3,
     "metadata": {},
     "output_type": "execute_result"
    }
   ],
   "source": [
    "df.head()"
   ]
  },
  {
   "cell_type": "code",
   "execution_count": 4,
   "metadata": {},
   "outputs": [
    {
     "name": "stdout",
     "output_type": "stream",
     "text": [
      "             P(Alarm) = 0.002516442\n",
      "         P(John,Mary) = 0.0020841002389999997\n",
      "   P(Alarm|John,Mary) = 0.7606920388631079\n",
      "P(Burglary|John,Mary) = 0.28417183536439294\n",
      "    P(Burglary|Alarm) = 0.37355122828183607\n",
      "  P(Earthquake|Alarm) = 0.23100870196889103\n"
     ]
    }
   ],
   "source": [
    "#syntax from here: https://stackoverflow.com/questions/28236305/how-do-i-sum-values-in-a-column-that-match-a-given-condition-using-pandas\n",
    "a_marginal = df.loc[df['alarm'] == True, 'probability'].sum()\n",
    "print('             P(Alarm) =', a_marginal)\n",
    "jm_marginal = df.loc[(df['john'] == True) & (df['mary'] == True), 'probability'].sum()\n",
    "print('         P(John,Mary) =', jm_marginal)\n",
    "ajm_marginal = df.loc[(df['alarm'] == True) & (df['john'] == True) & (df['mary'] == True), 'probability'].sum()\n",
    "print('   P(Alarm|John,Mary) =', ajm_marginal/jm_marginal)\n",
    "bjm_marginal = df.loc[(df['burglary'] == True) & (df['john'] == True) & (df['mary'] == True), 'probability'].sum()\n",
    "print('P(Burglary|John,Mary) =', bjm_marginal/jm_marginal)\n",
    "ba_marginal = df.loc[(df['burglary'] == True) & (df['alarm'] == True), 'probability'].sum()\n",
    "print('    P(Burglary|Alarm) =', ba_marginal/a_marginal)\n",
    "ea_marginal = df.loc[(df['earthquake'] == True) & (df['alarm'] == True), 'probability'].sum()\n",
    "print('  P(Earthquake|Alarm) =', ea_marginal/a_marginal)"
   ]
  },
  {
   "cell_type": "code",
   "execution_count": null,
   "metadata": {},
   "outputs": [],
   "source": []
  }
 ],
 "metadata": {
  "kernelspec": {
   "display_name": "Python 3",
   "language": "python",
   "name": "python3"
  },
  "language_info": {
   "codemirror_mode": {
    "name": "ipython",
    "version": 3
   },
   "file_extension": ".py",
   "mimetype": "text/x-python",
   "name": "python",
   "nbconvert_exporter": "python",
   "pygments_lexer": "ipython3",
   "version": "3.8.1"
  }
 },
 "nbformat": 4,
 "nbformat_minor": 4
}
