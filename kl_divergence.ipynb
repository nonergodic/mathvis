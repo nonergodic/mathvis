{
 "cells": [
  {
   "cell_type": "code",
   "execution_count": 30,
   "metadata": {},
   "outputs": [
    {
     "data": {
      "application/vnd.jupyter.widget-view+json": {
       "model_id": "f6d6b6e5b5434db5a84ef3e75d20042c",
       "version_major": 2,
       "version_minor": 0
      },
      "text/plain": [
       "interactive(children=(FloatSlider(value=0.5, continuous_update=False, description='p', max=0.9921875, min=0.00…"
      ]
     },
     "metadata": {},
     "output_type": "display_data"
    },
    {
     "data": {
      "text/plain": [
       "<function __main__.plot_kl(p)>"
      ]
     },
     "execution_count": 30,
     "metadata": {},
     "output_type": "execute_result"
    }
   ],
   "source": [
    "import numpy as np\n",
    "import matplotlib.pyplot as plt\n",
    "import ipywidgets as widgets\n",
    "from ipywidgets import interact\n",
    "\n",
    "kl_div = lambda p,q: p*np.log2(p/q) + (1-p)*np.log2((1-p)/(1-q))\n",
    "q = np.linspace(1/128,1-1/128,127)\n",
    "\n",
    "def plot_kl(p):\n",
    "    kl_pq = (lambda q: kl_div(p,q))(q)\n",
    "    plt.plot(q, kl_pq)\n",
    "    plt.xlabel('q')\n",
    "    plt.ylabel('bits')\n",
    "    plt.title('KL(p||q)')\n",
    "    plt.grid(True)\n",
    "    plt.show()\n",
    "    \n",
    "    plt.plot(np.log2(q), kl_pq)\n",
    "    plt.xlabel('log2(q)')\n",
    "    plt.ylabel('bits')\n",
    "    plt.title('KL(p||q) - log2')\n",
    "    plt.grid(True)\n",
    "    plt.show()\n",
    "\n",
    "interact(plot_kl, p = widgets.FloatSlider(min=1/128,max=(1-1/128),step=1/128,value=0.5,continuous_update=False))"
   ]
  },
  {
   "cell_type": "code",
   "execution_count": 31,
   "metadata": {},
   "outputs": [
    {
     "name": "stdout",
     "output_type": "stream",
     "text": [
      "p: 50.0 % \tq: 50.0 % \t->\t KL(p||q): 0.000\n",
      "p: 50.0 % \tq: 33.3 % \t->\t KL(p||q): 0.085\n",
      "p: 50.0 % \tq: 25.0 % \t->\t KL(p||q): 0.208\n",
      "p: 25.0 % \tq: 50.0 % \t->\t KL(p||q): 0.189\n",
      "p: 50.0 % \tq: 12.5 % \t->\t KL(p||q): 0.596\n",
      "p: 12.5 % \tq: 50.0 % \t->\t KL(p||q): 0.456\n",
      "p: 50.0 % \tq: 6.2 % \t->\t KL(p||q): 1.047\n",
      "p: 6.2 % \tq: 50.0 % \t->\t KL(p||q): 0.663\n"
     ]
    }
   ],
   "source": [
    "as_percent = lambda p: f'{p*100:3.1f}' + ' %'\n",
    "\n",
    "def show(p,q):\n",
    "    print('p:',as_percent(p),'\\tq:',as_percent(q),'\\t->\\t KL(p||q):',f'{kl_div(p,q):2.3f}')\n",
    "\n",
    "show(1/2,1/2)\n",
    "show(1/2,1/3)\n",
    "show(1/2,1/4)\n",
    "show(1/4,1/2)\n",
    "show(1/2,1/8)\n",
    "show(1/8,1/2)\n",
    "show(1/2,1/16)\n",
    "show(1/16,1/2)"
   ]
  }
 ],
 "metadata": {
  "kernelspec": {
   "display_name": "Python 3",
   "language": "python",
   "name": "python3"
  },
  "language_info": {
   "codemirror_mode": {
    "name": "ipython",
    "version": 3
   },
   "file_extension": ".py",
   "mimetype": "text/x-python",
   "name": "python",
   "nbconvert_exporter": "python",
   "pygments_lexer": "ipython3",
   "version": "3.8.3"
  }
 },
 "nbformat": 4,
 "nbformat_minor": 4
}
