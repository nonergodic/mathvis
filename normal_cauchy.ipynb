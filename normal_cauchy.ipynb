{
 "cells": [
  {
   "cell_type": "code",
   "execution_count": 1,
   "metadata": {
    "scrolled": false
   },
   "outputs": [],
   "source": [
    "import numpy\n",
    "import matplotlib.pyplot as plt\n",
    "import ipywidgets as widgets\n",
    "from ipywidgets import interact"
   ]
  },
  {
   "cell_type": "code",
   "execution_count": 2,
   "metadata": {},
   "outputs": [],
   "source": [
    "#change default size of plots and font\n",
    "plt.rcParams.update({'font.size': 22, 'figure.figsize': (14,8)})\n",
    "\n",
    "#define distributions\n",
    "normal = lambda x: numpy.exp(-0.5*(x*x))/numpy.sqrt(2*numpy.pi)\n",
    "cauchy = lambda x: 1/(numpy.pi*(1+x*x))\n",
    "\n",
    "generalize = lambda f, mu, sigma: lambda x: f((x-mu)/sigma)/sigma\n",
    "\n",
    "#define dynamic plotting\n",
    "def show(resolution,\\\n",
    "         xLower,\\\n",
    "         xUpper,\\\n",
    "         yLog,\\\n",
    "         sigma\n",
    "        ):\n",
    "    x = numpy.linspace(xLower, xUpper, resolution)\n",
    "    normalX = generalize(normal, 0, sigma)(x)#normal(x)\n",
    "    cauchyX = cauchy(x)\n",
    "    fig, ax = plt.subplots()\n",
    "    ax.plot(x, normalX, '-b', label='normal')\n",
    "    ax.plot(x, cauchyX, '-r', label='cauchy')\n",
    "    plt.yscale('log' if yLog else 'linear')\n",
    "    leg = ax.legend();\n",
    "    #plt.xlabel('x')\n",
    "    #plt.ylabel('f(x)')\n",
    "    plt.title('probability density functions')\n",
    "    plt.grid(True)\n",
    "    plt.show()\n",
    "    \n",
    "    pNormal = numpy.trapz(normalX,x)\n",
    "    pCauchy = numpy.trapz(cauchyX,x)\n",
    "    \n",
    "    print('\\nP(x in [', xLower, ', ', xUpper,']):')\n",
    "    print('normal:', pNormal*100, ' %')\n",
    "    print('cauchy:', pCauchy*100, ' %')\n",
    "    print('normal: 1 in', format(numpy.round(1/pNormal,1), ','))\n",
    "    print('cauchy: 1 in', format(numpy.round(1/pCauchy,1), ','))"
   ]
  },
  {
   "cell_type": "code",
   "execution_count": 3,
   "metadata": {},
   "outputs": [
    {
     "data": {
      "application/vnd.jupyter.widget-view+json": {
       "model_id": "b287732cd19a49afb700d9d2106c7c5d",
       "version_major": 2,
       "version_minor": 0
      },
      "text/plain": [
       "interactive(children=(IntText(value=200, description='resolution'), FloatSlider(value=-10.0, continuous_update…"
      ]
     },
     "metadata": {},
     "output_type": "display_data"
    }
   ],
   "source": [
    "interact(show,\\\n",
    "         resolution = widgets.IntText(value=200,continuous_update=False),\\\n",
    "         xLower = widgets.FloatSlider(min=-10,max=10,step=0.5,value=-10,continuous_update=False),\\\n",
    "         xUpper = widgets.FloatSlider(min=0,max=10,step=0.5,value=10,continuous_update=False),\\\n",
    "         yLog = widgets.Checkbox(value=False, description='log plot'),\\\n",
    "         sigma = widgets.FloatSlider(min=0.1,max=3,step=0.05,value=1.0,continuous_update=False)\n",
    "        );"
   ]
  }
 ],
 "metadata": {
  "kernelspec": {
   "display_name": "Python 3",
   "language": "python",
   "name": "python3"
  },
  "language_info": {
   "codemirror_mode": {
    "name": "ipython",
    "version": 3
   },
   "file_extension": ".py",
   "mimetype": "text/x-python",
   "name": "python",
   "nbconvert_exporter": "python",
   "pygments_lexer": "ipython3",
   "version": "3.6.8"
  }
 },
 "nbformat": 4,
 "nbformat_minor": 2
}
